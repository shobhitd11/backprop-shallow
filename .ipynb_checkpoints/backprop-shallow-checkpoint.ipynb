{
 "cells": [
  {
   "cell_type": "code",
   "execution_count": 1,
   "metadata": {
    "collapsed": true
   },
   "outputs": [],
   "source": [
    "import numpy as np\n",
    "from matplotlib import pyplot\n",
    "import struct\n",
    "\n",
    "with open('./t10k-labels-idx1-ubyte/t10k-labels.idx1-ubyte','rb') as file:\n",
    "    magic, num = struct.unpack(\">II\", file.read(8))\n",
    "    test_lbl = np.fromfile(file, dtype=np.int8)\n",
    "\n",
    "with open('./t10k-images-idx3-ubyte/t10k-images.idx3-ubyte', 'rb') as fimg:\n",
    "    magic, num, rows, cols = struct.unpack(\">IIII\", fimg.read(16))\n",
    "    test_img = np.fromfile(fimg, dtype=np.uint8).reshape(len(test_lbl), rows, cols)    \n",
    "\n",
    "with open('./train-labels-idx1-ubyte/train-labels.idx1-ubyte','rb') as file:\n",
    "    magic, num = struct.unpack(\">II\", file.read(8))\n",
    "    train_lbl = np.fromfile(file, dtype=np.int8)\n",
    "\n",
    "with open('./train-images-idx3-ubyte/train-images.idx3-ubyte', 'rb') as fimg:\n",
    "    magic, num, rows, cols = struct.unpack(\">IIII\", fimg.read(16))\n",
    "    train_img = np.fromfile(fimg, dtype=np.uint8).reshape(len(train_lbl), rows, cols)    \n",
    "    \n"
   ]
  },
  {
   "cell_type": "code",
   "execution_count": 2,
   "metadata": {
    "collapsed": true
   },
   "outputs": [],
   "source": [
    "def show(image):\n",
    "    \"\"\"\n",
    "    Render a given numpy.uint8 2D array of pixel data.\n",
    "    \"\"\"\n",
    "    from matplotlib import pyplot\n",
    "    import matplotlib as mpl\n",
    "    fig = pyplot.figure()\n",
    "    ax = fig.add_subplot(1,1,1)\n",
    "    imgplot = ax.imshow(image, cmap=mpl.cm.Greys)\n",
    "    imgplot.set_interpolation('nearest')\n",
    "    ax.xaxis.set_ticks_position('top')\n",
    "    ax.yaxis.set_ticks_position('left')\n",
    "    pyplot.show()"
   ]
  },
  {
   "cell_type": "code",
   "execution_count": 3,
   "metadata": {
    "collapsed": true
   },
   "outputs": [],
   "source": [
    "train_img = train_img.reshape(-1,784)\n",
    "test_img = test_img.reshape(-1,784)"
   ]
  },
  {
   "cell_type": "code",
   "execution_count": 4,
   "metadata": {
    "collapsed": true
   },
   "outputs": [],
   "source": [
    "xtrain = train_img.T\n",
    "ltrain = train_lbl.T"
   ]
  },
  {
   "cell_type": "code",
   "execution_count": 5,
   "metadata": {},
   "outputs": [],
   "source": [
    "xtest = test_img.T\n",
    "ltest = test_lbl.T"
   ]
  },
  {
   "cell_type": "code",
   "execution_count": 6,
   "metadata": {
    "collapsed": true
   },
   "outputs": [],
   "source": [
    "def normalize_MNIST_images(x):\n",
    "    return 2*x.astype(np.float64)/255 - 1\n",
    "\n",
    "xtrain = normalize_MNIST_images(xtrain)"
   ]
  },
  {
   "cell_type": "code",
   "execution_count": 7,
   "metadata": {
    "collapsed": true
   },
   "outputs": [],
   "source": [
    "xtest = normalize_MNIST_images(xtest)"
   ]
  },
  {
   "cell_type": "code",
   "execution_count": 8,
   "metadata": {},
   "outputs": [
    {
     "data": {
      "text/plain": [
       "array([ 0.,  0.,  0.,  0.,  0.,  0.,  0.,  1.,  0.,  0.])"
      ]
     },
     "execution_count": 8,
     "metadata": {},
     "output_type": "execute_result"
    }
   ],
   "source": [
    "def label2onehot(lbl):\n",
    "    d = np.zeros((lbl.max() + 1, lbl.size))\n",
    "    d[lbl, np.arange(0, lbl.size)] = 1\n",
    "    return d\n",
    "dtrain = label2onehot(ltrain)\n",
    "dtrain[:,42]"
   ]
  },
  {
   "cell_type": "code",
   "execution_count": 9,
   "metadata": {},
   "outputs": [],
   "source": [
    "dtest = label2onehot(ltest)"
   ]
  },
  {
   "cell_type": "code",
   "execution_count": 10,
   "metadata": {},
   "outputs": [
    {
     "data": {
      "text/plain": [
       "array([ True,  True,  True, ...,  True,  True,  True], dtype=bool)"
      ]
     },
     "execution_count": 10,
     "metadata": {},
     "output_type": "execute_result"
    }
   ],
   "source": [
    "def onehot2label(d):\n",
    "    lbl = d.argmax(axis=0)\n",
    "    return lbl\n",
    "\n",
    "ltrain == onehot2label(dtrain)"
   ]
  },
  {
   "cell_type": "code",
   "execution_count": 48,
   "metadata": {
    "collapsed": true
   },
   "outputs": [],
   "source": [
    "def softmax(a):\n",
    "    return np.exp(a-a.max(axis=0))/np.exp(a-a.max(axis=0)).sum(axis=0)\n",
    "def softmaxp(a, e):\n",
    "    return (e - np.sum(e * softmax(a), axis=0)) * softmax(a)\n",
    "\n",
    "\n",
    "\n"
   ]
  },
  {
   "cell_type": "code",
   "execution_count": 12,
   "metadata": {},
   "outputs": [
    {
     "name": "stdout",
     "output_type": "stream",
     "text": [
      "5.00730035533e-07 should be smaller than 1e-6\n"
     ]
    }
   ],
   "source": [
    "eps = 1e-6 # finite difference step\n",
    "a = np.random.randn(10, 200) # random inputs\n",
    "e = np.random.randn(10, 200) # random directions\n",
    "diff = softmaxp(a, e)\n",
    "diff_approx = (softmax(a+eps*e)-softmax(a))/eps\n",
    "rel_error = np.abs(diff - diff_approx).mean() / np.abs(diff_approx).mean()\n",
    "print(rel_error, 'should be smaller than 1e-6')\n"
   ]
  },
  {
   "cell_type": "code",
   "execution_count": 38,
   "metadata": {},
   "outputs": [
    {
     "name": "stdout",
     "output_type": "stream",
     "text": [
      "3.70768023548e-11 should be smaller than 1e-6\n"
     ]
    }
   ],
   "source": [
    "def relu(a):\n",
    "    return a*(a>0)\n",
    "def relup(a,e):\n",
    "    return e*(a>0)\n",
    "\n",
    "eps = 1e-6 # finite difference step\n",
    "a = np.random.randn(10, 200) # random inputs\n",
    "e = np.random.randn(10, 200) # random directions\n",
    "diff = relup(a, e)\n",
    "diff_approx = (relu(a+eps*e)-relu(a))/eps\n",
    "rel_error = np.abs(diff - diff_approx).mean() / np.abs(diff_approx).mean()\n",
    "print(rel_error, 'should be smaller than 1e-6')\n"
   ]
  },
  {
   "cell_type": "code",
   "execution_count": 39,
   "metadata": {
    "collapsed": true
   },
   "outputs": [],
   "source": [
    "def init_shallow(Ni, Nh, No):\n",
    "    b1 = np.random.randn(Nh, 1) / np.sqrt((Ni+1.)/2.)\n",
    "    W1 = np.random.randn(Nh, Ni) / np.sqrt((Ni+1.)/2.)\n",
    "    b2 = np.random.randn(No, 1) / np.sqrt((Nh+1.))\n",
    "    W2 = np.random.randn(No, Nh) / np.sqrt((Nh+1.))\n",
    "    return W1, b1, W2, b2\n",
    "\n",
    "Ni = xtrain.shape[0]\n",
    "Nh = 64\n",
    "No = dtrain.shape[0]\n",
    "netinit = init_shallow(Ni, Nh, No)"
   ]
  },
  {
   "cell_type": "code",
   "execution_count": 40,
   "metadata": {},
   "outputs": [],
   "source": [
    "def forwardprop_shallow(x, net):\n",
    "    W1 = net[0]\n",
    "    b1 = net[1]\n",
    "    W2 = net[2]\n",
    "    b2 = net[3]\n",
    "    a1 = W1.dot(x) + b1\n",
    "    h1 = relu(a1)\n",
    "    a2 = W2.dot(h1) + b2\n",
    "    y = softmax(a2)\n",
    "    return y\n",
    "\n",
    "yinit = forwardprop_shallow(xtrain, netinit)\n"
   ]
  },
  {
   "cell_type": "code",
   "execution_count": null,
   "metadata": {},
   "outputs": [],
   "source": []
  },
  {
   "cell_type": "code",
   "execution_count": 43,
   "metadata": {},
   "outputs": [
    {
     "name": "stdout",
     "output_type": "stream",
     "text": [
      "0.384541307051 should be around .36\n"
     ]
    }
   ],
   "source": [
    "def eval_loss(y, d):\n",
    "    return -(d*np.log(y)+(1-d)*np.log(1-y)).mean()\n",
    "    \n",
    "print(eval_loss(yinit, dtrain), 'should be around .36')"
   ]
  },
  {
   "cell_type": "code",
   "execution_count": 44,
   "metadata": {},
   "outputs": [
    {
     "name": "stdout",
     "output_type": "stream",
     "text": [
      "89.2283333333\n"
     ]
    }
   ],
   "source": [
    "def eval_perfs(y, lbl):\n",
    "    ly = onehot2label(y)\n",
    "    return 100. * (ly != lbl).mean()\n",
    "\n",
    "\n",
    "print(eval_perfs(yinit, ltrain))"
   ]
  },
  {
   "cell_type": "code",
   "execution_count": 71,
   "metadata": {},
   "outputs": [],
   "source": [
    "def update_shallow(x, d, net, gamma=.05):\n",
    "    W1 = net[0]\n",
    "    b1 = net[1]\n",
    "    W2 = net[2]\n",
    "    b2 = net[3]\n",
    "    Ni = W1.shape[1]\n",
    "    Nh = W1.shape[0]\n",
    "    No = W2.shape[0]\n",
    "    gamma = gamma / x.shape[1] # step parameter\n",
    "    # Forward phase\n",
    "    a1 = W1.dot(x) + b1\n",
    "    h1 = relu(a1)\n",
    "    a2 = W2.dot(h1) + b2\n",
    "    y = softmax(a2)\n",
    "    # Error evaluation\n",
    "    e = -d / y + (1 - d) / (1 - y)\n",
    "    # Backward phase\n",
    "    delta2 = softmaxp(a2, e)\n",
    "    delta1 = relup(a1, W2.T.dot(delta2) + b2.T.dot(delta2))\n",
    "    # gradient update\n",
    "    W2 = W2 - gamma * delta2.dot(h1.T)\n",
    "    W1 = W1 - gamma * delta1.dot(x.T)\n",
    "    b2 = b2 - gamma * delta2.sum(axis=1).reshape(No, 1)\n",
    "    b1 = b1 - gamma * delta1.sum(axis=1).reshape(Nh, 1)\n",
    "    return W1, b1, W2, b2"
   ]
  },
  {
   "cell_type": "code",
   "execution_count": 20,
   "metadata": {},
   "outputs": [
    {
     "ename": "NameError",
     "evalue": "name 'delta1' is not defined",
     "output_type": "error",
     "traceback": [
      "\u001b[1;31m---------------------------------------------------------------------------\u001b[0m",
      "\u001b[1;31mNameError\u001b[0m                                 Traceback (most recent call last)",
      "\u001b[1;32m<ipython-input-20-2b116593b5d1>\u001b[0m in \u001b[0;36m<module>\u001b[1;34m()\u001b[0m\n\u001b[0;32m     21\u001b[0m \u001b[1;31m# b1 = b1 - gamma * delta1.sum(axis=1).reshape(Nh, 1)\u001b[0m\u001b[1;33m\u001b[0m\u001b[1;33m\u001b[0m\u001b[0m\n\u001b[0;32m     22\u001b[0m \u001b[1;31m# e.shape\u001b[0m\u001b[1;33m\u001b[0m\u001b[1;33m\u001b[0m\u001b[0m\n\u001b[1;32m---> 23\u001b[1;33m \u001b[0mdelta1\u001b[0m\u001b[1;33m.\u001b[0m\u001b[0mshape\u001b[0m\u001b[1;33m\u001b[0m\u001b[0m\n\u001b[0m",
      "\u001b[1;31mNameError\u001b[0m: name 'delta1' is not defined"
     ]
    }
   ],
   "source": [
    "# x = xtrain\n",
    "# d = dtrain\n",
    "# gamma = 0.05\n",
    "# W1 = netinit[0]\n",
    "# b1 = netinit[1]\n",
    "# W2 = netinit[2]\n",
    "# b2 = netinit[3]\n",
    "# Ni = W1.shape[1]\n",
    "# Nh = W1.shape[0]\n",
    "# No = W2.shape[0]\n",
    "# a1 = W1.dot(x) + b1\n",
    "# h1 = relu(a1)\n",
    "# a2 = W2.dot(h1) + b2\n",
    "# y = softmax(a2)\n",
    "# e = -d / y + (1 - d) / (1 - y)\n",
    "# delta2 = softmaxp(a2, e)\n",
    "# delta1 = relup(a1, W2.T.dot(delta2) + b2.T.dot(delta2))\n",
    "# W2 = W2 - gamma * delta2.dot(h1.T)\n",
    "# W1 = W1 - gamma * delta1.dot(x.T)\n",
    "# b2 = b2 - gamma * delta2.sum(axis=1).reshape(No, 1)\n",
    "# b1 = b1 - gamma * delta1.sum(axis=1).reshape(Nh, 1)\n",
    "# e.shape\n",
    "# delta1.shape\n"
   ]
  },
  {
   "cell_type": "code",
   "execution_count": 75,
   "metadata": {},
   "outputs": [
    {
     "name": "stdout",
     "output_type": "stream",
     "text": [
      "0 0.326161706426 87.6116666667\n",
      "1 0.312291354181 78.8866666667\n",
      "2 0.300325197315 68.8016666667\n",
      "3 0.289215933477 64.0616666667\n",
      "4 0.278858570442 59.0133333333\n"
     ]
    }
   ],
   "source": [
    "def backprop_shallow(x, d, net, T, gamma=.05):\n",
    "    lbl = onehot2label(d)\n",
    "    for t in range(0, T):\n",
    "        net = update_shallow(x, d, net, gamma)\n",
    "        y = forwardprop_shallow(x, net)\n",
    "        print(t, eval_loss(y, d), eval_perfs(y, lbl))\n",
    "\n",
    "    return net\n",
    "nettrain = backprop_shallow(xtrain, dtrain, netinit, 5)\n"
   ]
  },
  {
   "cell_type": "code",
   "execution_count": 22,
   "metadata": {},
   "outputs": [
    {
     "name": "stdout",
     "output_type": "stream",
     "text": [
      "0.134855256196 25.48\n"
     ]
    }
   ],
   "source": [
    "ytest = forwardprop_shallow(xtest, nettrain)\n",
    "print(eval_loss(ytest, dtest), eval_perfs(ytest, test_lbl))\n"
   ]
  },
  {
   "cell_type": "code",
   "execution_count": 74,
   "metadata": {},
   "outputs": [
    {
     "name": "stdout",
     "output_type": "stream",
     "text": [
      "0 0.0564056807343 10.6633333333\n",
      "1 0.0401603917868 7.295\n",
      "2 0.0341381706623 6.13\n",
      "3 0.0286752325794 5.065\n",
      "4 0.0257303209617 4.47333333333\n"
     ]
    }
   ],
   "source": [
    "netinit = init_shallow(Ni, Nh, No)\n",
    "def backprop_minibatch_shallow(x, d, net, T, B=100, gamma=.05):\n",
    "    N = x.shape[1]\n",
    "    lbl = onehot2label(d)\n",
    "    for t in range(0, T):\n",
    "        for l in range(0, int((N+B-1)/B)):\n",
    "            idx = np.arange(B*l, min(B*(l+1), N))\n",
    "            net = update_shallow(x[:,idx], d[:,idx], net, gamma)\n",
    "        y = forwardprop_shallow(x, net)\n",
    "        print(t, eval_loss(y, d), eval_perfs(y, lbl))\n",
    "\n",
    "    return net\n",
    "\n",
    "netmb = backprop_minibatch_shallow(xtrain, dtrain, netinit, 5, B=100)"
   ]
  },
  {
   "cell_type": "code",
   "execution_count": 76,
   "metadata": {},
   "outputs": [
    {
     "name": "stdout",
     "output_type": "stream",
     "text": [
      "0 0.0828879398358 15.15\n",
      "1 0.0727117973099 12.9583333333\n",
      "2 0.0697146550195 12.6333333333\n",
      "3 0.0648616701079 11.65\n",
      "4 0.0637837517814 11.325\n",
      "0.064416372377 11.28\n"
     ]
    }
   ],
   "source": [
    "netinit = init_shallow(Ni, 16, No)\n",
    "netmb = backprop_minibatch_shallow(xtrain, dtrain, netinit, 5, B=100)\n",
    "ytest = forwardprop_shallow(xtest, netmb)\n",
    "print(eval_loss(ytest, dtest), eval_perfs(ytest, test_lbl))\n"
   ]
  },
  {
   "cell_type": "code",
   "execution_count": 77,
   "metadata": {},
   "outputs": [
    {
     "name": "stdout",
     "output_type": "stream",
     "text": [
      "0 0.054483047043 10.0433333333\n",
      "1 0.0417761587132 7.58166666667\n",
      "2 0.0318203168577 5.65833333333\n",
      "3 0.0252486079339 4.41333333333\n",
      "4 0.021443553527 3.66666666667\n",
      "0.0238982715201 4.15\n"
     ]
    }
   ],
   "source": [
    "netinit = init_shallow(Ni, 256, No)\n",
    "netmb = backprop_minibatch_shallow(xtrain, dtrain, netinit, 5, B=100)\n",
    "ytest = forwardprop_shallow(xtest, netmb)\n",
    "print(eval_loss(ytest, dtest), eval_perfs(ytest, test_lbl))\n"
   ]
  },
  {
   "cell_type": "code",
   "execution_count": 78,
   "metadata": {},
   "outputs": [
    {
     "name": "stdout",
     "output_type": "stream",
     "text": [
      "0 0.0626624698361 11.7966666667\n",
      "1 0.0500919112253 9.14166666667\n",
      "2 0.0432144347893 7.77666666667\n",
      "3 0.0383332447781 6.79666666667\n",
      "4 0.0347320249523 6.09666666667\n",
      "0.0342709374204 5.96\n"
     ]
    }
   ],
   "source": [
    "netinit = init_shallow(Ni, 64, No)\n",
    "netmb = backprop_minibatch_shallow(xtrain, dtrain, netinit, 5, B=100,gamma = 0.02)\n",
    "ytest = forwardprop_shallow(xtest, netmb)\n",
    "print(eval_loss(ytest, dtest), eval_perfs(ytest, test_lbl))\n"
   ]
  },
  {
   "cell_type": "code",
   "execution_count": 79,
   "metadata": {},
   "outputs": [
    {
     "name": "stdout",
     "output_type": "stream",
     "text": [
      "0 0.0490314996412 9.285\n",
      "1 0.0435751816936 8.025\n",
      "2 0.0734288024565 12.6183333333\n",
      "3 0.0733298430412 12.1766666667\n",
      "4 0.0569102513929 9.90333333333\n",
      "0.0583679637633 9.96\n"
     ]
    }
   ],
   "source": [
    "netinit = init_shallow(Ni, 256, No)\n",
    "netmb = backprop_minibatch_shallow(xtrain, dtrain, netinit, 5, B=100,gamma = 0.08)\n",
    "ytest = forwardprop_shallow(xtest, netmb)\n",
    "print(eval_loss(ytest, dtest), eval_perfs(ytest, test_lbl))\n"
   ]
  }
 ],
 "metadata": {
  "kernelspec": {
   "display_name": "Python 3",
   "language": "python",
   "name": "python3"
  },
  "language_info": {
   "codemirror_mode": {
    "name": "ipython",
    "version": 3
   },
   "file_extension": ".py",
   "mimetype": "text/x-python",
   "name": "python",
   "nbconvert_exporter": "python",
   "pygments_lexer": "ipython3",
   "version": "3.6.2"
  }
 },
 "nbformat": 4,
 "nbformat_minor": 2
}
